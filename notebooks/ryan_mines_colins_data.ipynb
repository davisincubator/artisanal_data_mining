{
 "cells": [
  {
   "cell_type": "code",
   "execution_count": null,
   "metadata": {
    "collapsed": true
   },
   "outputs": [],
   "source": [
    "import utils\n",
    "from ModelDefinitions import *\n",
    "import pandas as pd\n",
    "\n",
    "params = {'load_file':'model_saves/model-cnn_256x256_5000',\n",
    "          'save_file': 'cnn',\n",
    "          'save_interval': 1000,\n",
    "          'batch_size': 32,\n",
    "          'lr': .0001,  # Learning rate\n",
    "          'rms_decay': 0.9,  # RMS Prop decay\n",
    "          'rms_eps': 1e-8,  # RMS Prop epsilon\n",
    "          'width':256,\n",
    "          'height':256,\n",
    "          'numParam':17,\n",
    "          'num_epoch':5000}\n",
    "\n",
    "###models###\n",
    "#So Colin's just using tensorflow directly\n",
    "#RunTraining.py\n",
    "#and he's got a class defined over in a different file\n",
    "\n"
   ]
  }
 ],
 "metadata": {
  "kernelspec": {
   "display_name": "Python 3",
   "language": "python",
   "name": "python3"
  },
  "language_info": {
   "codemirror_mode": {
    "name": "ipython",
    "version": 3
   },
   "file_extension": ".py",
   "mimetype": "text/x-python",
   "name": "python",
   "nbconvert_exporter": "python",
   "pygments_lexer": "ipython3",
   "version": "3.5.3"
  }
 },
 "nbformat": 4,
 "nbformat_minor": 0
}

{
 "cells": [
  {
   "cell_type": "code",
   "execution_count": 1,
   "metadata": {
    "collapsed": false
   },
   "outputs": [
    {
     "ename": "ImportError",
     "evalue": "No module named 'utils'",
     "output_type": "error",
     "traceback": [
      "\u001b[1;31m---------------------------------------------------------------------------\u001b[0m",
      "\u001b[1;31mImportError\u001b[0m                               Traceback (most recent call last)",
      "\u001b[1;32m<ipython-input-1-d4eddb9c24c3>\u001b[0m in \u001b[0;36m<module>\u001b[1;34m()\u001b[0m\n\u001b[1;32m----> 1\u001b[1;33m \u001b[1;32mimport\u001b[0m \u001b[0mutils\u001b[0m\u001b[1;33m\u001b[0m\u001b[0m\n\u001b[0m\u001b[0;32m      2\u001b[0m \u001b[1;32mfrom\u001b[0m \u001b[0mModelDefinitions\u001b[0m \u001b[1;32mimport\u001b[0m \u001b[1;33m*\u001b[0m\u001b[1;33m\u001b[0m\u001b[0m\n\u001b[0;32m      3\u001b[0m \u001b[1;32mimport\u001b[0m \u001b[0mpandas\u001b[0m \u001b[1;32mas\u001b[0m \u001b[0mpd\u001b[0m\u001b[1;33m\u001b[0m\u001b[0m\n\u001b[0;32m      4\u001b[0m \u001b[1;33m\u001b[0m\u001b[0m\n\u001b[0;32m      5\u001b[0m \u001b[1;33m\u001b[0m\u001b[0m\n",
      "\u001b[1;31mImportError\u001b[0m: No module named 'utils'"
     ]
    }
   ],
   "source": [
    "import utils\n",
    "from ModelDefinitions import *\n",
    "import pandas as pd\n",
    "\n",
    "\n",
    "params = {'load_file':'model_saves/model-cnn_256x256_5000_jared',\n",
    "          'save_file': 'cnn',\n",
    "          'save_interval': 1000,\n",
    "          'batch_size': 32,\n",
    "          'lr': .0001,  # Learning rate\n",
    "          'rms_decay': 0.9,  # RMS Prop decay\n",
    "          'rms_eps': 1e-8,  # RMS Prop epsilon\n",
    "          'width':256,\n",
    "          'height':256,\n",
    "          'numParam':17,\n",
    "          'num_epoch':5000}\n",
    "\n",
    "\n",
    "## initialize net\n",
    "net = CNN(params)#(from ModelDefinitions.py)\n",
    "\n",
    "# get files and labels\n",
    "train_files = utils.file('../planet/train-tif-v2/*')\n",
    "train_labels = pd.read_csv('../planet/train_v2.csv')\n",
    "train_labels.index = train_labels['image_name']\n",
    "# this ugly bit gets unique categories\n",
    "categories = sorted(list(set(' '.join(train_labels['tags'].tolist()).split())))\n",
    "# dict converts labels to indices of labels matrix\n",
    "cat_dict = dict(zip(categories,range(len(categories))))\n",
    "\n",
    "###### run training ######\n",
    "\n",
    "# moving average cost\n",
    "avgCost = 100*[np.inf]\n",
    "\n",
    "for itrain in range(params['num_epoch']):\n",
    "  # read random images\n",
    "  batchNames,batchImages = utils.get_batch(train_files,params['batch_size'])\n",
    "  # get labels of batch images\n",
    "  labelsList = train_labels.loc[batchNames]['tags'].tolist()\n",
    "  labels = utils.get_labels(cat_dict,labelsList)\n",
    "  # train net\n",
    "  cnt, cost = net.train(batchImages,labels)\n",
    "  #update moving average cost\n",
    "  avgCost.append(cost)\n",
    "  avgCost.pop(0)\n",
    "  print('count: {}, cost: {}, avg_cost: {}'.format(cnt, cost, np.mean(avgCost)))\n",
    "  # save network\n",
    "  if (params['save_file']):\n",
    "    if cnt % params['save_interval'] == 0:\n",
    "      net.save_ckpt('model_saves/model-' + params['save_file'] + \"_\" + str(params['width'])+'x'+str(params['height']) + '_' + str(cnt))\n",
    "      print('Model saved')"
   ]
  },
  {
   "cell_type": "code",
   "execution_count": null,
   "metadata": {
    "collapsed": true
   },
   "outputs": [],
   "source": []
  }
 ],
 "metadata": {
  "kernelspec": {
   "display_name": "Python 3",
   "language": "python",
   "name": "python3"
  },
  "language_info": {
   "codemirror_mode": {
    "name": "ipython",
    "version": 3
   },
   "file_extension": ".py",
   "mimetype": "text/x-python",
   "name": "python",
   "nbconvert_exporter": "python",
   "pygments_lexer": "ipython3",
   "version": "3.5.3"
  }
 },
 "nbformat": 4,
 "nbformat_minor": 0
}
